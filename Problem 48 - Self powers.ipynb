{
 "metadata": {
  "name": "",
  "signature": "sha256:eff4aa1d64dab2740d3ce58c7005f6ee96572eedcbe08ccb76909c9d6afe07ea"
 },
 "nbformat": 3,
 "nbformat_minor": 0,
 "worksheets": [
  {
   "cells": [
    {
     "cell_type": "heading",
     "level": 2,
     "metadata": {},
     "source": [
      "Project Euler - Problem 48"
     ]
    },
    {
     "cell_type": "markdown",
     "metadata": {},
     "source": [
      "The series, $1^1 + 2^2 + 3^3 + ... + 10^{10} = 10405071317$.\n",
      "\n",
      "Find the last ten digits of the series, $1^1 + 2^2 + 3^3 + ... + 1000^{1000}$."
     ]
    },
    {
     "cell_type": "heading",
     "level": 3,
     "metadata": {},
     "source": [
      "Version 1: The obvious way "
     ]
    },
    {
     "cell_type": "code",
     "collapsed": false,
     "input": [
      "sum(map(lambda k: k**k, xrange(1, 1000+1))) % 10**10"
     ],
     "language": "python",
     "metadata": {},
     "outputs": [
      {
       "metadata": {},
       "output_type": "pyout",
       "prompt_number": 31,
       "text": [
        "9110846700L"
       ]
      }
     ],
     "prompt_number": 31
    },
    {
     "cell_type": "markdown",
     "metadata": {},
     "source": [
      "This leaves much to be desired since we have to compute a integer with at least $10^{3000}$ digits only to truncate off $10^{3000} - 10^{10} = 10^{10} (10^{2990} - 1)$ digits. Note that in most other languages such as Java, we would have had to resort to some library like `BigInteger` to perform this computation. In Python, all numbers are represented by a (theoretically) infinite number of bits: \n",
      "\n",
      "> Integers (int)\n",
      "\n",
      "> These represent numbers in an unlimited range, subject to available (virtual) memory only. For the purpose of shift and mask operations, a binary representation is assumed, and negative numbers are represented in a variant of 2\u2019s complement which gives the illusion of an infinite string of sign bits extending to the left.\n",
      "\n",
      "https://docs.python.org/3/reference/datamodel.html"
     ]
    },
    {
     "cell_type": "heading",
     "level": 3,
     "metadata": {},
     "source": [
      "Version 2: Some simple modulo arithmetic"
     ]
    },
    {
     "cell_type": "markdown",
     "metadata": {},
     "source": [
      "We're asked to find $1^1 + 2^2 + 3^3 + ... + 1000^{1000} \\mod 10^{10}$. Note that\n",
      "$$a + b \\mod n = (a \\mod n) + (b \\mod n)$$\n",
      "and that\n",
      "$$a \\cdot b \\mod n = (a \\mod n) \\cdot (b \\mod n)$$\n",
      "so we can implement modulo `sum` and `prod` functions."
     ]
    },
    {
     "cell_type": "code",
     "collapsed": false,
     "input": [
      "def prod_mod(nums, m):\n",
      "    \"Multiply all nums modulo m\" \n",
      "    return reduce(lambda p, q: (p*q)%m, map(lambda n: n%m, nums))  "
     ],
     "language": "python",
     "metadata": {},
     "outputs": [],
     "prompt_number": 21
    },
    {
     "cell_type": "code",
     "collapsed": false,
     "input": [
      "from itertools import repeat\n",
      "\n",
      "pow_mod = lambda n, p, m: prod_mod(repeat(n, p), m)"
     ],
     "language": "python",
     "metadata": {},
     "outputs": [],
     "prompt_number": 22
    },
    {
     "cell_type": "code",
     "collapsed": false,
     "input": [
      "pow_mod(3, 3, 8)"
     ],
     "language": "python",
     "metadata": {},
     "outputs": [
      {
       "metadata": {},
       "output_type": "pyout",
       "prompt_number": 23,
       "text": [
        "3"
       ]
      }
     ],
     "prompt_number": 23
    },
    {
     "cell_type": "code",
     "collapsed": false,
     "input": [
      "sum_mod = lambda nums, m: reduce(lambda p, q: (p+q)%m, map(lambda n: n%m, nums))"
     ],
     "language": "python",
     "metadata": {},
     "outputs": [],
     "prompt_number": 27
    },
    {
     "cell_type": "code",
     "collapsed": false,
     "input": [
      "sum_mod(map(lambda k: pow_mod(k, k, 10**10), xrange(1, 1000+1)), 10**10)"
     ],
     "language": "python",
     "metadata": {},
     "outputs": [
      {
       "metadata": {},
       "output_type": "pyout",
       "prompt_number": 28,
       "text": [
        "9110846700"
       ]
      }
     ],
     "prompt_number": 28
    },
    {
     "cell_type": "markdown",
     "metadata": {},
     "source": [
      "This way, we never let the result of any intermediate addition or multiplication exceed $10^{10}-1$."
     ]
    }
   ],
   "metadata": {}
  }
 ]
}
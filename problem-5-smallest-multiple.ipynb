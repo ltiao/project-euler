{
 "metadata": {
  "name": "",
  "signature": "sha256:60b61f360ae3e3dc4eb8e81416a7aa7ebdccce28a7dd0b5e37269a6881f9a7b5"
 },
 "nbformat": 3,
 "nbformat_minor": 0,
 "worksheets": [
  {
   "cells": [
    {
     "cell_type": "heading",
     "level": 2,
     "metadata": {},
     "source": [
      "Project Euler - Problem 5"
     ]
    },
    {
     "cell_type": "markdown",
     "metadata": {},
     "source": [
      "2520 is the smallest number that can be divided by each of the numbers from 1 to 10 without any remainder.\n",
      "\n",
      "What is the smallest positive number that is evenly divisible by all of the numbers from 1 to 20?"
     ]
    },
    {
     "cell_type": "code",
     "collapsed": false,
     "input": [
      "all_divides = lambda m, *numbers: all(m % n == 0 for n in numbers)"
     ],
     "language": "python",
     "metadata": {},
     "outputs": [],
     "prompt_number": 1
    },
    {
     "cell_type": "code",
     "collapsed": false,
     "input": [
      "all_divides(2520, *range(1, 10))"
     ],
     "language": "python",
     "metadata": {},
     "outputs": [
      {
       "metadata": {},
       "output_type": "pyout",
       "prompt_number": 2,
       "text": [
        "True"
       ]
      }
     ],
     "prompt_number": 2
    },
    {
     "cell_type": "markdown",
     "metadata": {},
     "source": [
      "The least common multiple of the numbers 1 to 10 is 2520. We are asked to find that of the numbers 1 to 20."
     ]
    },
    {
     "cell_type": "heading",
     "level": 3,
     "metadata": {},
     "source": [
      "Version 1 - Integer Factorization"
     ]
    },
    {
     "cell_type": "markdown",
     "metadata": {},
     "source": [
      "We already implemented `lcm` in problem 3, and the easiest way would be for us to simply use that. However, as we mentioned, it is not very efficient. Let's instead look at other ways of implementing it."
     ]
    },
    {
     "cell_type": "heading",
     "level": 3,
     "metadata": {},
     "source": [
      "Version 2 - Simple algorithm"
     ]
    },
    {
     "cell_type": "markdown",
     "metadata": {},
     "source": [
      "Given a list of $n$ integers $X = (x_1, x_2, \\dotsc, x_n)$, we can find the least common multiple of the integers in $X$ by the following:\n",
      "\n",
      "Let $X^{(0)} = (x_1^{(0)}, x_2^{(0)}, \\dotsc, x_n^{(0)}) = (x_1, x_2, \\dotsc, x_n) = X$ and $X^{(m+1)} = (x_1^{(m+1)}, x_2^{(m+1)}, \\dotsc, x_n^{(m+1)})$ where \n",
      "\n",
      "$$\n",
      "x_k^{(m+1)} = x_k^{(m)} + \\begin{cases}\n",
      "    x_k^{(0)} & \\text{if } \\min(X^{(m)}) = x_k^{(m)} \\\\\n",
      "    0         & \\text{otherwise}\n",
      "\\end{cases}\n",
      "$$\n",
      "\n",
      "Once all $X$ are equal, it every entry is the LCM."
     ]
    },
    {
     "cell_type": "code",
     "collapsed": false,
     "input": [
      "# First we need a predicate to test \n",
      "# if all elements of a list are equal\n",
      "# There are a number of ways to do this\n",
      "pairs = lambda lst: zip(lst[1:], lst[:-1])\n",
      "all_equals = lambda lst: all(x == y for x, y in pairs)\n",
      "all_equals = lambda lst: lst[1:] == lst[:-1]\n",
      "all_equals = lambda lst: len(set(lst)) < 2\n",
      "\n",
      "# We'll also need argmin. Note that NumPy\n",
      "# comes bundled with all of these, but \n",
      "# they're trivial, why not implement them ourselves!\n",
      "argmin = lambda lst: lst.index(min(lst))"
     ],
     "language": "python",
     "metadata": {},
     "outputs": [],
     "prompt_number": 3
    },
    {
     "cell_type": "code",
     "collapsed": false,
     "input": [
      "def _lcm_recursive(nums, nums_new):\n",
      "    if all_equals(nums_new): \n",
      "        # return any element \n",
      "        # why not the first one\n",
      "        return nums_new[0]\n",
      "    k = argmin(nums_new)\n",
      "    nums_new[k] += nums[k]\n",
      "    return _lcm(nums, nums_new)\n",
      "\n",
      "def _lcm_iterative(nums):\n",
      "    nums_new = list(nums) # remember to use list for deep copy\n",
      "    while not all_equals(nums_new):\n",
      "        k = argmin(nums_new)\n",
      "        nums_new[k] += nums[k]\n",
      "    return nums_new[0]\n",
      "\n",
      "# comment one out\n",
      "lcm = lambda *nums: _lcm_recursive(list(nums), list(nums))\n",
      "lcm = lambda *nums: _lcm_iterative(nums)"
     ],
     "language": "python",
     "metadata": {},
     "outputs": [],
     "prompt_number": 4
    },
    {
     "cell_type": "code",
     "collapsed": false,
     "input": [
      "lcm(4, 7, 12,  21, 42)"
     ],
     "language": "python",
     "metadata": {},
     "outputs": [
      {
       "metadata": {},
       "output_type": "pyout",
       "prompt_number": 5,
       "text": [
        "84"
       ]
      }
     ],
     "prompt_number": 5
    },
    {
     "cell_type": "code",
     "collapsed": false,
     "input": [
      "lcm(*xrange(1, 10+1))"
     ],
     "language": "python",
     "metadata": {},
     "outputs": [
      {
       "metadata": {},
       "output_type": "pyout",
       "prompt_number": 15,
       "text": [
        "2520"
       ]
      }
     ],
     "prompt_number": 15
    },
    {
     "cell_type": "code",
     "collapsed": false,
     "input": [
      "lcm(*xrange(1, 20))"
     ],
     "language": "python",
     "metadata": {},
     "outputs": []
    },
    {
     "cell_type": "markdown",
     "metadata": {},
     "source": [
      "This is way too slow! Let's try something else!"
     ]
    },
    {
     "cell_type": "heading",
     "level": 3,
     "metadata": {},
     "source": [
      "Version 3 - Division by Primes"
     ]
    },
    {
     "cell_type": "code",
     "collapsed": false,
     "input": [
      "%load_ext autoreload\n",
      "%autoreload 2"
     ],
     "language": "python",
     "metadata": {},
     "outputs": [
      {
       "output_type": "stream",
       "stream": "stdout",
       "text": [
        "The autoreload extension is already loaded. To reload it, use:\n",
        "  %reload_ext autoreload\n"
       ]
      }
     ],
     "prompt_number": 23
    },
    {
     "cell_type": "code",
     "collapsed": false,
     "input": [
      "from common.utils import prime_range, reconstruct"
     ],
     "language": "python",
     "metadata": {},
     "outputs": [],
     "prompt_number": 27
    },
    {
     "cell_type": "code",
     "collapsed": false,
     "input": [
      "from collections import defaultdict, Counter\n",
      "\n",
      "def _lcm_prime_divisors(nums):\n",
      "    divides_count = Counter()\n",
      "    for p in prime_range(max(nums)+1):\n",
      "        for n in nums:\n",
      "            tmp = 0\n",
      "            while n % p == 0:\n",
      "                tmp += 1 \n",
      "                n /= p\n",
      "            if tmp > divides_count[p]:\n",
      "                divides_count[p] = tmp\n",
      "    return reconstruct(divides_count)\n",
      "\n",
      "lcm = lambda *nums: _lcm_prime_divisors(nums)"
     ],
     "language": "python",
     "metadata": {},
     "outputs": [],
     "prompt_number": 36
    },
    {
     "cell_type": "code",
     "collapsed": false,
     "input": [
      "lcm(4, 7, 12,  21, 42)"
     ],
     "language": "python",
     "metadata": {},
     "outputs": [
      {
       "metadata": {},
       "output_type": "pyout",
       "prompt_number": 37,
       "text": [
        "84"
       ]
      }
     ],
     "prompt_number": 37
    },
    {
     "cell_type": "code",
     "collapsed": false,
     "input": [
      "lcm(*xrange(1, 11))"
     ],
     "language": "python",
     "metadata": {},
     "outputs": [
      {
       "metadata": {},
       "output_type": "pyout",
       "prompt_number": 38,
       "text": [
        "2520"
       ]
      }
     ],
     "prompt_number": 38
    },
    {
     "cell_type": "code",
     "collapsed": false,
     "input": [
      "lcm(*xrange(1, 21))"
     ],
     "language": "python",
     "metadata": {},
     "outputs": [
      {
       "metadata": {},
       "output_type": "pyout",
       "prompt_number": 39,
       "text": [
        "232792560"
       ]
      }
     ],
     "prompt_number": 39
    },
    {
     "cell_type": "markdown",
     "metadata": {},
     "source": [
      "MUCH better."
     ]
    },
    {
     "cell_type": "heading",
     "level": 3,
     "metadata": {},
     "source": [
      "Version 4 - GCD and the Euclidean algorithm"
     ]
    },
    {
     "cell_type": "markdown",
     "metadata": {},
     "source": [
      "$$\\mathrm{lcd}(a, b) = \\frac{a \\cdot b}{\\mathrm{gcd}(a, b)}$$"
     ]
    },
    {
     "cell_type": "code",
     "collapsed": false,
     "input": [],
     "language": "python",
     "metadata": {},
     "outputs": []
    }
   ],
   "metadata": {}
  }
 ]
}
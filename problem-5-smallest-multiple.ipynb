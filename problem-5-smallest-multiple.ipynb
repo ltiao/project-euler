{
 "cells": [
  {
   "cell_type": "markdown",
   "metadata": {},
   "source": [
    "2520 is the smallest number that can be divided by each of the numbers from 1 to 10 without any remainder.\n",
    "\n",
    "What is the smallest positive number that is evenly divisible by all of the numbers from 1 to 20?"
   ]
  },
  {
   "cell_type": "code",
   "execution_count": 1,
   "metadata": {
    "collapsed": true
   },
   "outputs": [],
   "source": [
    "from six.moves import range"
   ]
  },
  {
   "cell_type": "code",
   "execution_count": 2,
   "metadata": {
    "collapsed": false
   },
   "outputs": [],
   "source": [
    "all_divides = lambda m, *numbers: all(m % n == 0 for n in numbers)"
   ]
  },
  {
   "cell_type": "code",
   "execution_count": 3,
   "metadata": {
    "collapsed": false
   },
   "outputs": [
    {
     "data": {
      "text/plain": [
       "True"
      ]
     },
     "execution_count": 3,
     "metadata": {},
     "output_type": "execute_result"
    }
   ],
   "source": [
    "all_divides(2520, *range(1, 10))"
   ]
  },
  {
   "cell_type": "markdown",
   "metadata": {},
   "source": [
    "The least common multiple of the numbers 1 to 10 is 2520. We are asked to find that of the numbers 1 to 20."
   ]
  },
  {
   "cell_type": "markdown",
   "metadata": {},
   "source": [
    "### Version 1 - Integer Factorization"
   ]
  },
  {
   "cell_type": "markdown",
   "metadata": {},
   "source": [
    "We already implemented `lcm` in problem 3, and the easiest way would be for us to simply use that. However, as we mentioned, it is not very efficient. Let's instead look at other ways of implementing it."
   ]
  },
  {
   "cell_type": "markdown",
   "metadata": {},
   "source": [
    "### Version 2 - Simple algorithm"
   ]
  },
  {
   "cell_type": "markdown",
   "metadata": {},
   "source": [
    "Given a list of $n$ integers $X = (x_1, x_2, \\dotsc, x_n)$, we can find the least common multiple of the integers in $X$ by the following:\n",
    "\n",
    "Let $X^{(0)} = (x_1^{(0)}, x_2^{(0)}, \\dotsc, x_n^{(0)}) = (x_1, x_2, \\dotsc, x_n) = X$ and $X^{(m+1)} = (x_1^{(m+1)}, x_2^{(m+1)}, \\dotsc, x_n^{(m+1)})$ where \n",
    "\n",
    "$$\n",
    "x_k^{(m+1)} = x_k^{(m)} + \\begin{cases}\n",
    "    x_k^{(0)} & \\text{if } \\min(X^{(m)}) = x_k^{(m)} \\\\\n",
    "    0         & \\text{otherwise}\n",
    "\\end{cases}\n",
    "$$\n",
    "\n",
    "Once all $X$ are equal, in every entry is the LCM.\n",
    "\n",
    "<!-- TEASER_END -->"
   ]
  },
  {
   "cell_type": "code",
   "execution_count": 4,
   "metadata": {
    "collapsed": false
   },
   "outputs": [],
   "source": [
    "# First we need a predicate to test \n",
    "# if all elements of a list are equal\n",
    "# There are a number of ways to do this\n",
    "pairs = lambda lst: zip(lst[1:], lst[:-1])\n",
    "all_equals = lambda lst: all(x == y for x, y in pairs)\n",
    "all_equals = lambda lst: lst[1:] == lst[:-1]\n",
    "all_equals = lambda lst: len(set(lst)) < 2\n",
    "\n",
    "# We'll also need argmin. Note that NumPy\n",
    "# comes bundled with all of these, but \n",
    "# they're trivial, why not implement them ourselves!\n",
    "argmin = lambda lst: lst.index(min(lst))"
   ]
  },
  {
   "cell_type": "code",
   "execution_count": 5,
   "metadata": {
    "collapsed": false
   },
   "outputs": [],
   "source": [
    "def _lcm_recursive(nums, nums_new):\n",
    "    if all_equals(nums_new): \n",
    "        # return any element \n",
    "        # why not the first one\n",
    "        return nums_new[0]\n",
    "    k = argmin(nums_new)\n",
    "    nums_new[k] += nums[k]\n",
    "    return _lcm(nums, nums_new)\n",
    "\n",
    "def _lcm_iterative(nums):\n",
    "    nums_new = list(nums) # remember to use list for deep copy\n",
    "    while not all_equals(nums_new):\n",
    "        k = argmin(nums_new)\n",
    "        nums_new[k] += nums[k]\n",
    "    return nums_new[0]\n",
    "\n",
    "# comment one out\n",
    "lcm = lambda *nums: _lcm_recursive(list(nums), list(nums))\n",
    "lcm = lambda *nums: _lcm_iterative(nums)"
   ]
  },
  {
   "cell_type": "code",
   "execution_count": 6,
   "metadata": {
    "collapsed": false
   },
   "outputs": [
    {
     "data": {
      "text/plain": [
       "84"
      ]
     },
     "execution_count": 6,
     "metadata": {},
     "output_type": "execute_result"
    }
   ],
   "source": [
    "lcm(4, 7, 12,  21, 42)"
   ]
  },
  {
   "cell_type": "code",
   "execution_count": 7,
   "metadata": {
    "collapsed": false
   },
   "outputs": [
    {
     "data": {
      "text/plain": [
       "2520"
      ]
     },
     "execution_count": 7,
     "metadata": {},
     "output_type": "execute_result"
    }
   ],
   "source": [
    "lcm(*range(1, 10+1))"
   ]
  },
  {
   "cell_type": "code",
   "execution_count": null,
   "metadata": {
    "collapsed": false
   },
   "outputs": [],
   "source": [
    "lcm(*range(1, 20))"
   ]
  },
  {
   "cell_type": "markdown",
   "metadata": {},
   "source": [
    "This is way too slow! Let's try something else!"
   ]
  },
  {
   "cell_type": "markdown",
   "metadata": {},
   "source": [
    "### Version 3 - Division by Primes"
   ]
  },
  {
   "cell_type": "code",
   "execution_count": 8,
   "metadata": {
    "collapsed": false
   },
   "outputs": [],
   "source": [
    "%load_ext autoreload\n",
    "%autoreload 2"
   ]
  },
  {
   "cell_type": "code",
   "execution_count": 9,
   "metadata": {
    "collapsed": false
   },
   "outputs": [],
   "source": [
    "from common.utils import prime_range, reconstruct"
   ]
  },
  {
   "cell_type": "code",
   "execution_count": 10,
   "metadata": {
    "collapsed": false
   },
   "outputs": [],
   "source": [
    "from collections import defaultdict, Counter\n",
    "\n",
    "def _lcm_prime_divisors(nums):\n",
    "    divides_count = Counter()\n",
    "    for p in prime_range(max(nums)+1):\n",
    "        for n in nums:\n",
    "            tmp = 0\n",
    "            while n % p == 0:\n",
    "                tmp += 1 \n",
    "                n /= p\n",
    "            if tmp > divides_count[p]:\n",
    "                divides_count[p] = tmp\n",
    "    return reconstruct(divides_count)\n",
    "\n",
    "lcm = lambda *nums: _lcm_prime_divisors(nums)"
   ]
  },
  {
   "cell_type": "code",
   "execution_count": 11,
   "metadata": {
    "collapsed": false
   },
   "outputs": [
    {
     "data": {
      "text/plain": [
       "84"
      ]
     },
     "execution_count": 11,
     "metadata": {},
     "output_type": "execute_result"
    }
   ],
   "source": [
    "lcm(4, 7, 12,  21, 42)"
   ]
  },
  {
   "cell_type": "code",
   "execution_count": 12,
   "metadata": {
    "collapsed": false
   },
   "outputs": [
    {
     "data": {
      "text/plain": [
       "2520"
      ]
     },
     "execution_count": 12,
     "metadata": {},
     "output_type": "execute_result"
    }
   ],
   "source": [
    "lcm(*range(1, 11))"
   ]
  },
  {
   "cell_type": "code",
   "execution_count": 13,
   "metadata": {
    "collapsed": false
   },
   "outputs": [
    {
     "data": {
      "text/plain": [
       "232792560"
      ]
     },
     "execution_count": 13,
     "metadata": {},
     "output_type": "execute_result"
    }
   ],
   "source": [
    "lcm(*range(1, 21))"
   ]
  },
  {
   "cell_type": "markdown",
   "metadata": {},
   "source": [
    "MUCH better."
   ]
  },
  {
   "cell_type": "markdown",
   "metadata": {},
   "source": [
    "### Version 4 - GCD and the Euclidean algorithm"
   ]
  },
  {
   "cell_type": "markdown",
   "metadata": {},
   "source": [
    "$$\\mathrm{lcd}(a, b) = \\frac{a \\cdot b}{\\mathrm{gcd}(a, b)}$$"
   ]
  },
  {
   "cell_type": "code",
   "execution_count": 14,
   "metadata": {
    "collapsed": true
   },
   "outputs": [],
   "source": [
    "# TODO"
   ]
  }
 ],
 "metadata": {
  "kernelspec": {
   "display_name": "Python 3",
   "language": "python",
   "name": "python3"
  },
  "language_info": {
   "codemirror_mode": {
    "name": "ipython",
    "version": 3
   },
   "file_extension": ".py",
   "mimetype": "text/x-python",
   "name": "python",
   "nbconvert_exporter": "python",
   "pygments_lexer": "ipython3",
   "version": "3.5.1"
  }
 },
 "nbformat": 4,
 "nbformat_minor": 0
}

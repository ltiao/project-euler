{
 "cells": [
  {
   "cell_type": "markdown",
   "metadata": {
    "collapsed": false
   },
   "source": [
    "It was proposed by Christian Goldbach that every odd composite number can be written as the sum of a prime and twice a square.\n",
    "\n",
    "$$\n",
    "9 = 7 + 2 \\cdot 1^2 \\\\\n",
    "15 = 7 + 2 \\cdot 2^2 \\\\\n",
    "21 = 3 + 2 \\cdot 3^2 \\\\\n",
    "25 = 7 + 2 \\cdot 3^2 \\\\\n",
    "27 = 19 + 2 \\cdot 2^2 \\\\\n",
    "33 = 31 + 2 \\cdot 1^2\n",
    "$$\n",
    "\n",
    "It turns out that the conjecture was false.\n",
    "\n",
    "What is the smallest odd composite that cannot be written as the sum of a prime and twice a square?"
   ]
  },
  {
   "cell_type": "markdown",
   "metadata": {},
   "source": [
    "### Version 1: Brute force"
   ]
  },
  {
   "cell_type": "markdown",
   "metadata": {},
   "source": [
    "Formally stated, Goldbach's Other Conjecture says that all odd composite numbers $n$ can be expressed as \n",
    "\n",
    "$$\n",
    "n = 2k^2 + p\n",
    "$$\n",
    "\n",
    "for some integer $k$ and prime number $p$. Let \n",
    "\n",
    "$$\n",
    "S_n = \\{ n - 2k^2 : k = 1, 2, \\dotsc, \\lfloor \\sqrt{\\frac{n}{2}} \\rfloor \\}\n",
    "$$\n",
    "\n",
    "If any element $n - 2k^2$ of $S_n$ is prime, then we call $k$ a *witness* to Goldbach's Other Conjecture for $n$. We are asked to find the smallest $n$ that has no witness, i.e. such that *all* elements of $S_n$ are composite.\n",
    "\n",
    "Let $P_n$ be the set of all prime numbers stricly smaller than $n$, then our algorithm searches for the smallest $n$ such that $P_n \\cap S_n = \\emptyset$, providing a counterexample to Goldbach's Other Conjecture.\n",
    "\n",
    "<!-- TEASER_END -->"
   ]
  },
  {
   "cell_type": "code",
   "execution_count": 1,
   "metadata": {
    "collapsed": false
   },
   "outputs": [],
   "source": [
    "from IPython.display import Math, display\n",
    "\n",
    "from collections import defaultdict\n",
    "from itertools import count"
   ]
  },
  {
   "cell_type": "markdown",
   "metadata": {},
   "source": [
    "We modify and augment a very space-efficient implementation (due to David Eppstein, UC Irvine) of the Sieve of Erastothenes to generate *composite* numbers and keep track of all prime numbers below it. In the outermost-loop below, `primes` will always be the list of all prime number strictly below $n$, i.e. it is equivalent to $P_n$. Note that if $n$ is odd and composite, then the largest prime below it is no greater than $n-2$, since $n-1$ is even. Since $\\max S_n = n - 2$ searching through $P_n$ is sufficient (i.e. if $n-2$ is prime, then $n-2 \\in P_n$.) The loop terminates when we encounter an $n$ with no witnesses."
   ]
  },
  {
   "cell_type": "code",
   "execution_count": 2,
   "metadata": {
    "collapsed": false
   },
   "outputs": [],
   "source": [
    "factors = defaultdict(list)\n",
    "witness = {}\n",
    "primes = set()\n",
    "for n in count(2):\n",
    "    if factors[n]:\n",
    "        # n is composite\n",
    "        for m in factors.pop(n):\n",
    "            factors[n+m].append(m)\n",
    "        if n % 2:\n",
    "            # n is odd and composite\n",
    "            for k in range(1, int((n/2)**.5)+1):\n",
    "                p = n - 2*k**2\n",
    "                if p in primes: \n",
    "                    # TODO: `in` is O(len(primes))\n",
    "                    # could optimize by using set\n",
    "                    witness[n] = k\n",
    "                    break\n",
    "            if not n in witness:\n",
    "                break\n",
    "    else:\n",
    "        factors[n*n].append(n)\n",
    "        primes.add(n)"
   ]
  },
  {
   "cell_type": "code",
   "execution_count": 3,
   "metadata": {
    "collapsed": false
   },
   "outputs": [
    {
     "data": {
      "text/plain": [
       "5777"
      ]
     },
     "execution_count": 3,
     "metadata": {},
     "output_type": "execute_result"
    }
   ],
   "source": [
    "n"
   ]
  },
  {
   "cell_type": "markdown",
   "metadata": {},
   "source": [
    "The answer is 5777."
   ]
  },
  {
   "cell_type": "markdown",
   "metadata": {},
   "source": [
    "Note that not only is this implementation space-efficient, it is also very time efficient, since we incrementally build our list of primes, composites and witnesses incrementally from bottom-up. If we hadn't augmented the implementation of the prime sieve, we would have had to use the prime sieve to obtain all odd composites, and perform a primality test on all elements of $S_n$, which would (usually) require a prime factorization algorithm, which in turn (usually) requires a prime sieve, not to mention the fact that there would be many overlapping subproblems, i.e. many $n < m$ such that $S_n \\cap S_m \\ne \\emptyset$, so we'd have to use dynamic programming, by, for example memoizing the primality testing function or some other optimization - just a whole mess of redundancies and inefficiencies that we happily avoided with this method :)"
   ]
  },
  {
   "cell_type": "markdown",
   "metadata": {},
   "source": [
    "Let's list out the witnesses to the first 100 numbers."
   ]
  },
  {
   "cell_type": "code",
   "execution_count": 4,
   "metadata": {
    "collapsed": false
   },
   "outputs": [],
   "source": [
    "lines = [r'{0} &= {1} + 2 \\cdot {2}^2 \\\\'.format(n, n - 2*witness[n]**2, witness[n]) for n in sorted(witness)]"
   ]
  },
  {
   "cell_type": "code",
   "execution_count": 5,
   "metadata": {
    "collapsed": false
   },
   "outputs": [
    {
     "data": {
      "text/latex": [
       "$$\n",
       "     \\begin{align}\n",
       "     9 &= 7 + 2 \\cdot 1^2 \\\\\n",
       "15 &= 13 + 2 \\cdot 1^2 \\\\\n",
       "21 &= 19 + 2 \\cdot 1^2 \\\\\n",
       "25 &= 23 + 2 \\cdot 1^2 \\\\\n",
       "27 &= 19 + 2 \\cdot 2^2 \\\\\n",
       "33 &= 31 + 2 \\cdot 1^2 \\\\\n",
       "35 &= 17 + 2 \\cdot 3^2 \\\\\n",
       "39 &= 37 + 2 \\cdot 1^2 \\\\\n",
       "45 &= 43 + 2 \\cdot 1^2 \\\\\n",
       "49 &= 47 + 2 \\cdot 1^2 \\\\\n",
       "51 &= 43 + 2 \\cdot 2^2 \\\\\n",
       "55 &= 53 + 2 \\cdot 1^2 \\\\\n",
       "57 &= 7 + 2 \\cdot 5^2 \\\\\n",
       "63 &= 61 + 2 \\cdot 1^2 \\\\\n",
       "65 &= 47 + 2 \\cdot 3^2 \\\\\n",
       "69 &= 67 + 2 \\cdot 1^2 \\\\\n",
       "75 &= 73 + 2 \\cdot 1^2 \\\\\n",
       "77 &= 59 + 2 \\cdot 3^2 \\\\\n",
       "81 &= 79 + 2 \\cdot 1^2 \\\\\n",
       "85 &= 83 + 2 \\cdot 1^2 \\\\\n",
       "87 &= 79 + 2 \\cdot 2^2 \\\\\n",
       "91 &= 89 + 2 \\cdot 1^2 \\\\\n",
       "93 &= 61 + 2 \\cdot 4^2 \\\\\n",
       "95 &= 23 + 2 \\cdot 6^2 \\\\\n",
       "99 &= 97 + 2 \\cdot 1^2 \\\\\n",
       "105 &= 103 + 2 \\cdot 1^2 \\\\\n",
       "111 &= 109 + 2 \\cdot 1^2 \\\\\n",
       "115 &= 113 + 2 \\cdot 1^2 \\\\\n",
       "117 &= 109 + 2 \\cdot 2^2 \\\\\n",
       "119 &= 101 + 2 \\cdot 3^2 \\\\\n",
       "121 &= 113 + 2 \\cdot 2^2 \\\\\n",
       "123 &= 73 + 2 \\cdot 5^2 \\\\\n",
       "125 &= 107 + 2 \\cdot 3^2 \\\\\n",
       "129 &= 127 + 2 \\cdot 1^2 \\\\\n",
       "133 &= 131 + 2 \\cdot 1^2 \\\\\n",
       "135 &= 127 + 2 \\cdot 2^2 \\\\\n",
       "141 &= 139 + 2 \\cdot 1^2 \\\\\n",
       "143 &= 71 + 2 \\cdot 6^2 \\\\\n",
       "145 &= 137 + 2 \\cdot 2^2 \\\\\n",
       "147 &= 139 + 2 \\cdot 2^2 \\\\\n",
       "153 &= 151 + 2 \\cdot 1^2 \\\\\n",
       "155 &= 137 + 2 \\cdot 3^2 \\\\\n",
       "159 &= 157 + 2 \\cdot 1^2 \\\\\n",
       "161 &= 89 + 2 \\cdot 6^2 \\\\\n",
       "165 &= 163 + 2 \\cdot 1^2 \\\\\n",
       "169 &= 167 + 2 \\cdot 1^2 \\\\\n",
       "171 &= 163 + 2 \\cdot 2^2 \\\\\n",
       "175 &= 173 + 2 \\cdot 1^2 \\\\\n",
       "177 &= 127 + 2 \\cdot 5^2 \\\\\n",
       "183 &= 181 + 2 \\cdot 1^2 \\\\\n",
       "185 &= 167 + 2 \\cdot 3^2 \\\\\n",
       "187 &= 179 + 2 \\cdot 2^2 \\\\\n",
       "189 &= 181 + 2 \\cdot 2^2 \\\\\n",
       "195 &= 193 + 2 \\cdot 1^2 \\\\\n",
       "201 &= 199 + 2 \\cdot 1^2 \\\\\n",
       "203 &= 131 + 2 \\cdot 6^2 \\\\\n",
       "205 &= 197 + 2 \\cdot 2^2 \\\\\n",
       "207 &= 199 + 2 \\cdot 2^2 \\\\\n",
       "209 &= 191 + 2 \\cdot 3^2 \\\\\n",
       "213 &= 211 + 2 \\cdot 1^2 \\\\\n",
       "215 &= 197 + 2 \\cdot 3^2 \\\\\n",
       "217 &= 199 + 2 \\cdot 3^2 \\\\\n",
       "219 &= 211 + 2 \\cdot 2^2 \\\\\n",
       "221 &= 149 + 2 \\cdot 6^2 \\\\\n",
       "225 &= 223 + 2 \\cdot 1^2 \\\\\n",
       "231 &= 229 + 2 \\cdot 1^2 \\\\\n",
       "235 &= 233 + 2 \\cdot 1^2 \\\\\n",
       "237 &= 229 + 2 \\cdot 2^2 \\\\\n",
       "243 &= 241 + 2 \\cdot 1^2 \\\\\n",
       "245 &= 227 + 2 \\cdot 3^2 \\\\\n",
       "247 &= 239 + 2 \\cdot 2^2 \\\\\n",
       "249 &= 241 + 2 \\cdot 2^2 \\\\\n",
       "253 &= 251 + 2 \\cdot 1^2 \\\\\n",
       "255 &= 223 + 2 \\cdot 4^2 \\\\\n",
       "259 &= 257 + 2 \\cdot 1^2 \\\\\n",
       "261 &= 229 + 2 \\cdot 4^2 \\\\\n",
       "265 &= 263 + 2 \\cdot 1^2 \\\\\n",
       "267 &= 139 + 2 \\cdot 8^2 \\\\\n",
       "273 &= 271 + 2 \\cdot 1^2 \\\\\n",
       "275 &= 257 + 2 \\cdot 3^2 \\\\\n",
       "279 &= 277 + 2 \\cdot 1^2 \\\\\n",
       "285 &= 283 + 2 \\cdot 1^2 \\\\\n",
       "287 &= 269 + 2 \\cdot 3^2 \\\\\n",
       "289 &= 281 + 2 \\cdot 2^2 \\\\\n",
       "291 &= 283 + 2 \\cdot 2^2 \\\\\n",
       "295 &= 293 + 2 \\cdot 1^2 \\\\\n",
       "297 &= 199 + 2 \\cdot 7^2 \\\\\n",
       "299 &= 281 + 2 \\cdot 3^2 \\\\\n",
       "301 &= 293 + 2 \\cdot 2^2 \\\\\n",
       "303 &= 271 + 2 \\cdot 4^2 \\\\\n",
       "305 &= 233 + 2 \\cdot 6^2 \\\\\n",
       "309 &= 307 + 2 \\cdot 1^2 \\\\\n",
       "315 &= 313 + 2 \\cdot 1^2 \\\\\n",
       "319 &= 317 + 2 \\cdot 1^2 \\\\\n",
       "321 &= 313 + 2 \\cdot 2^2 \\\\\n",
       "323 &= 251 + 2 \\cdot 6^2 \\\\\n",
       "325 &= 317 + 2 \\cdot 2^2 \\\\\n",
       "327 &= 277 + 2 \\cdot 5^2 \\\\\n",
       "329 &= 311 + 2 \\cdot 3^2 \\\\\n",
       "333 &= 331 + 2 \\cdot 1^2 \\\\\n",
       "     \\end{align}\n",
       "     $$"
      ],
      "text/plain": [
       "<IPython.core.display.Math object>"
      ]
     },
     "execution_count": 5,
     "metadata": {},
     "output_type": "execute_result"
    }
   ],
   "source": [
    "Math(r\"\"\"\n",
    "     \\begin{{align}}\n",
    "     {body}\n",
    "     \\end{{align}}\n",
    "     \"\"\".format(body='\\n'.join(lines[:100])))"
   ]
  }
 ],
 "metadata": {
  "kernelspec": {
   "display_name": "Python 3",
   "language": "python",
   "name": "python3"
  },
  "language_info": {
   "codemirror_mode": {
    "name": "ipython",
    "version": 3
   },
   "file_extension": ".py",
   "mimetype": "text/x-python",
   "name": "python",
   "nbconvert_exporter": "python",
   "pygments_lexer": "ipython3",
   "version": "3.5.1"
  }
 },
 "nbformat": 4,
 "nbformat_minor": 0
}

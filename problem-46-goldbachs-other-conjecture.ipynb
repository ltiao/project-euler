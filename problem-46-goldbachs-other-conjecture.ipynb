{
 "cells": [
  {
   "cell_type": "markdown",
   "metadata": {
    "collapsed": false
   },
   "source": [
    "It was proposed by Christian Goldbach that every odd composite number can be written as the sum of a prime and twice a square.\n",
    "\n",
    "$$\n",
    "9 = 7 + 2×1^2 \\\\\n",
    "15 = 7 + 2×2^2 \\\\\n",
    "21 = 3 + 2×3^2 \\\\\n",
    "25 = 7 + 2×3^2 \\\\\n",
    "27 = 19 + 2×2^2 \\\\\n",
    "33 = 31 + 2×1^2\n",
    "$$\n",
    "\n",
    "It turns out that the conjecture was false.\n",
    "\n",
    "What is the smallest odd composite that cannot be written as the sum of a prime and twice a square?"
   ]
  },
  {
   "cell_type": "markdown",
   "metadata": {},
   "source": [
    "### Version 1: Brute force"
   ]
  },
  {
   "cell_type": "markdown",
   "metadata": {},
   "source": [
    "Formally stated, Goldbach's Other Conjecture says that for all odd composite numbers $n$ can be expressed as \n",
    "\n",
    "$$\n",
    "n = 2k^2 + p\n",
    "$$\n",
    "\n",
    "for some integer $k$ and prime number $p$. Let \n",
    "\n",
    "$$\n",
    "S_n = \\{ n - 2k^2 : k = 1, 2, \\dotsc, \\lfloor \\sqrt{\\frac{n}{2}} \\rfloor \\}\n",
    "$$\n",
    "\n",
    "If any element $n - 2k^2$ of $S_n$ is prime, then we call $k$ a *witness* to Goldbach's Other Conjecture. Let \n",
    "\n",
    "$$\n",
    "P_n = \\{p : p \\text{ is prime and } p < n\\}\n",
    "$$\n",
    "\n",
    "Then our algorithm searches for the smallest $n$ such that $P_n \\cap S_n = \\emptyset$, providing a counterexample to Goldbach's Other Conjecture.\n",
    "\n",
    "<!-- TEASER_END -->"
   ]
  },
  {
   "cell_type": "code",
   "execution_count": 1,
   "metadata": {
    "collapsed": false
   },
   "outputs": [],
   "source": [
    "from IPython.display import Math, display\n",
    "\n",
    "from collections import defaultdict\n",
    "from itertools import count"
   ]
  },
  {
   "cell_type": "markdown",
   "metadata": {},
   "source": [
    "We augment a very space-efficient implementation (due to David Eppstein, UC Irvine) of the Sieve of Erastothenes to generate *composite* numbers and keep track of all prime numbers below it. In the outermost-loop below, `primes` will always be the list of all prime number strictly below $n$, i.e. it is equivalent to $P_n$. Note that if $n$ is odd and composite, then the largest prime below it is no greater than $n-2$, since $n-1$ is even. Since $\\max S_n = n - 2$ searching through $P_n$ is sufficient (i.e. if $n-2$ is prime, then $n-2 \\in P_n$.) The loop terminates when we encounter an $n$ with no witnesses."
   ]
  },
  {
   "cell_type": "code",
   "execution_count": 2,
   "metadata": {
    "collapsed": false
   },
   "outputs": [],
   "source": [
    "factors = defaultdict(list)\n",
    "witness = {}\n",
    "primes = []\n",
    "for n in count(2):\n",
    "    if factors[n]:\n",
    "        # n is composite\n",
    "        for m in factors.pop(n):\n",
    "            factors[n+m].append(m)\n",
    "        if n % 2:\n",
    "            # n is odd and composite\n",
    "            for k in range(1, int((n/2)**.5)+1):\n",
    "                p = n - 2*k**2\n",
    "                if p in primes: \n",
    "                    # TODO: `in` is O(len(primes))\n",
    "                    # could optimize by using set\n",
    "                    witness[n] = k\n",
    "                    break\n",
    "            if not n in witness:\n",
    "                break\n",
    "    else:\n",
    "        factors[n*n].append(n)\n",
    "        primes.append(n)"
   ]
  },
  {
   "cell_type": "code",
   "execution_count": 3,
   "metadata": {
    "collapsed": false
   },
   "outputs": [
    {
     "data": {
      "text/plain": [
       "5777"
      ]
     },
     "execution_count": 3,
     "metadata": {},
     "output_type": "execute_result"
    }
   ],
   "source": [
    "n"
   ]
  },
  {
   "cell_type": "markdown",
   "metadata": {},
   "source": [
    "The answer is 5777."
   ]
  },
  {
   "cell_type": "markdown",
   "metadata": {},
   "source": [
    "Note that not only is this implementation space-efficient, it is also very time efficient, since we incrementally build our list of primes, composites and witnesses incrementally from bottom-up. If we hadn't augmented the implementation of the prime sieve, we would have had to use the prime sieve to obtain all odd composites, and perform a primality test on all elements of $S_n$, which would (usually) require a prime factorization algorithm, which in turn (usually) requires a prime sieve, not to mention the fact that there would be many overlapping subproblems, i.e. many $n < m$ such that $S_n \\cap S_m \\ne \\emptyset$, so we'd have to use dynamic programming, by, for example memoizing the primality testing function or some other optimization - just a whole mess of redundancies and inefficiencies that we happily avoided with this method :)"
   ]
  },
  {
   "cell_type": "markdown",
   "metadata": {},
   "source": [
    "Let's list out the witnesses to the first 100 numbers."
   ]
  },
  {
   "cell_type": "code",
   "execution_count": 4,
   "metadata": {
    "collapsed": false
   },
   "outputs": [],
   "source": [
    "lines = [r'{0} &= 2 \\cdot {1}^2 + {2} \\\\'.format(n, witness[n], n - 2*witness[n]**2) for n in sorted(witness)]"
   ]
  },
  {
   "cell_type": "code",
   "execution_count": 5,
   "metadata": {
    "collapsed": false
   },
   "outputs": [
    {
     "data": {
      "text/latex": [
       "$$\n",
       "     \\begin{align}\n",
       "     9 &= 2 \\cdot 1^2 + 7 \\\\\n",
       "15 &= 2 \\cdot 1^2 + 13 \\\\\n",
       "21 &= 2 \\cdot 1^2 + 19 \\\\\n",
       "25 &= 2 \\cdot 1^2 + 23 \\\\\n",
       "27 &= 2 \\cdot 2^2 + 19 \\\\\n",
       "33 &= 2 \\cdot 1^2 + 31 \\\\\n",
       "35 &= 2 \\cdot 3^2 + 17 \\\\\n",
       "39 &= 2 \\cdot 1^2 + 37 \\\\\n",
       "45 &= 2 \\cdot 1^2 + 43 \\\\\n",
       "49 &= 2 \\cdot 1^2 + 47 \\\\\n",
       "51 &= 2 \\cdot 2^2 + 43 \\\\\n",
       "55 &= 2 \\cdot 1^2 + 53 \\\\\n",
       "57 &= 2 \\cdot 5^2 + 7 \\\\\n",
       "63 &= 2 \\cdot 1^2 + 61 \\\\\n",
       "65 &= 2 \\cdot 3^2 + 47 \\\\\n",
       "69 &= 2 \\cdot 1^2 + 67 \\\\\n",
       "75 &= 2 \\cdot 1^2 + 73 \\\\\n",
       "77 &= 2 \\cdot 3^2 + 59 \\\\\n",
       "81 &= 2 \\cdot 1^2 + 79 \\\\\n",
       "85 &= 2 \\cdot 1^2 + 83 \\\\\n",
       "87 &= 2 \\cdot 2^2 + 79 \\\\\n",
       "91 &= 2 \\cdot 1^2 + 89 \\\\\n",
       "93 &= 2 \\cdot 4^2 + 61 \\\\\n",
       "95 &= 2 \\cdot 6^2 + 23 \\\\\n",
       "99 &= 2 \\cdot 1^2 + 97 \\\\\n",
       "105 &= 2 \\cdot 1^2 + 103 \\\\\n",
       "111 &= 2 \\cdot 1^2 + 109 \\\\\n",
       "115 &= 2 \\cdot 1^2 + 113 \\\\\n",
       "117 &= 2 \\cdot 2^2 + 109 \\\\\n",
       "119 &= 2 \\cdot 3^2 + 101 \\\\\n",
       "121 &= 2 \\cdot 2^2 + 113 \\\\\n",
       "123 &= 2 \\cdot 5^2 + 73 \\\\\n",
       "125 &= 2 \\cdot 3^2 + 107 \\\\\n",
       "129 &= 2 \\cdot 1^2 + 127 \\\\\n",
       "133 &= 2 \\cdot 1^2 + 131 \\\\\n",
       "135 &= 2 \\cdot 2^2 + 127 \\\\\n",
       "141 &= 2 \\cdot 1^2 + 139 \\\\\n",
       "143 &= 2 \\cdot 6^2 + 71 \\\\\n",
       "145 &= 2 \\cdot 2^2 + 137 \\\\\n",
       "147 &= 2 \\cdot 2^2 + 139 \\\\\n",
       "153 &= 2 \\cdot 1^2 + 151 \\\\\n",
       "155 &= 2 \\cdot 3^2 + 137 \\\\\n",
       "159 &= 2 \\cdot 1^2 + 157 \\\\\n",
       "161 &= 2 \\cdot 6^2 + 89 \\\\\n",
       "165 &= 2 \\cdot 1^2 + 163 \\\\\n",
       "169 &= 2 \\cdot 1^2 + 167 \\\\\n",
       "171 &= 2 \\cdot 2^2 + 163 \\\\\n",
       "175 &= 2 \\cdot 1^2 + 173 \\\\\n",
       "177 &= 2 \\cdot 5^2 + 127 \\\\\n",
       "183 &= 2 \\cdot 1^2 + 181 \\\\\n",
       "185 &= 2 \\cdot 3^2 + 167 \\\\\n",
       "187 &= 2 \\cdot 2^2 + 179 \\\\\n",
       "189 &= 2 \\cdot 2^2 + 181 \\\\\n",
       "195 &= 2 \\cdot 1^2 + 193 \\\\\n",
       "201 &= 2 \\cdot 1^2 + 199 \\\\\n",
       "203 &= 2 \\cdot 6^2 + 131 \\\\\n",
       "205 &= 2 \\cdot 2^2 + 197 \\\\\n",
       "207 &= 2 \\cdot 2^2 + 199 \\\\\n",
       "209 &= 2 \\cdot 3^2 + 191 \\\\\n",
       "213 &= 2 \\cdot 1^2 + 211 \\\\\n",
       "215 &= 2 \\cdot 3^2 + 197 \\\\\n",
       "217 &= 2 \\cdot 3^2 + 199 \\\\\n",
       "219 &= 2 \\cdot 2^2 + 211 \\\\\n",
       "221 &= 2 \\cdot 6^2 + 149 \\\\\n",
       "225 &= 2 \\cdot 1^2 + 223 \\\\\n",
       "231 &= 2 \\cdot 1^2 + 229 \\\\\n",
       "235 &= 2 \\cdot 1^2 + 233 \\\\\n",
       "237 &= 2 \\cdot 2^2 + 229 \\\\\n",
       "243 &= 2 \\cdot 1^2 + 241 \\\\\n",
       "245 &= 2 \\cdot 3^2 + 227 \\\\\n",
       "247 &= 2 \\cdot 2^2 + 239 \\\\\n",
       "249 &= 2 \\cdot 2^2 + 241 \\\\\n",
       "253 &= 2 \\cdot 1^2 + 251 \\\\\n",
       "255 &= 2 \\cdot 4^2 + 223 \\\\\n",
       "259 &= 2 \\cdot 1^2 + 257 \\\\\n",
       "261 &= 2 \\cdot 4^2 + 229 \\\\\n",
       "265 &= 2 \\cdot 1^2 + 263 \\\\\n",
       "267 &= 2 \\cdot 8^2 + 139 \\\\\n",
       "273 &= 2 \\cdot 1^2 + 271 \\\\\n",
       "275 &= 2 \\cdot 3^2 + 257 \\\\\n",
       "279 &= 2 \\cdot 1^2 + 277 \\\\\n",
       "285 &= 2 \\cdot 1^2 + 283 \\\\\n",
       "287 &= 2 \\cdot 3^2 + 269 \\\\\n",
       "289 &= 2 \\cdot 2^2 + 281 \\\\\n",
       "291 &= 2 \\cdot 2^2 + 283 \\\\\n",
       "295 &= 2 \\cdot 1^2 + 293 \\\\\n",
       "297 &= 2 \\cdot 7^2 + 199 \\\\\n",
       "299 &= 2 \\cdot 3^2 + 281 \\\\\n",
       "301 &= 2 \\cdot 2^2 + 293 \\\\\n",
       "303 &= 2 \\cdot 4^2 + 271 \\\\\n",
       "305 &= 2 \\cdot 6^2 + 233 \\\\\n",
       "309 &= 2 \\cdot 1^2 + 307 \\\\\n",
       "315 &= 2 \\cdot 1^2 + 313 \\\\\n",
       "319 &= 2 \\cdot 1^2 + 317 \\\\\n",
       "321 &= 2 \\cdot 2^2 + 313 \\\\\n",
       "323 &= 2 \\cdot 6^2 + 251 \\\\\n",
       "325 &= 2 \\cdot 2^2 + 317 \\\\\n",
       "327 &= 2 \\cdot 5^2 + 277 \\\\\n",
       "329 &= 2 \\cdot 3^2 + 311 \\\\\n",
       "333 &= 2 \\cdot 1^2 + 331 \\\\\n",
       "     \\end{align}\n",
       "     $$"
      ],
      "text/plain": [
       "<IPython.core.display.Math object>"
      ]
     },
     "execution_count": 5,
     "metadata": {},
     "output_type": "execute_result"
    }
   ],
   "source": [
    "Math(r\"\"\"\n",
    "     \\begin{{align}}\n",
    "     {body}\n",
    "     \\end{{align}}\n",
    "     \"\"\".format(body='\\n'.join(lines[:100])))"
   ]
  }
 ],
 "metadata": {
  "kernelspec": {
   "display_name": "Python 3",
   "language": "python",
   "name": "python3"
  },
  "language_info": {
   "codemirror_mode": {
    "name": "ipython",
    "version": 3
   },
   "file_extension": ".py",
   "mimetype": "text/x-python",
   "name": "python",
   "nbconvert_exporter": "python",
   "pygments_lexer": "ipython3",
   "version": "3.5.1"
  }
 },
 "nbformat": 4,
 "nbformat_minor": 0
}

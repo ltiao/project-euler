{
 "metadata": {
  "name": "",
  "signature": "sha256:568b55a576fad7697e7b583693cc376aab0923b06a68aff235fb8a1d5a01966a"
 },
 "nbformat": 3,
 "nbformat_minor": 0,
 "worksheets": [
  {
   "cells": [
    {
     "cell_type": "heading",
     "level": 2,
     "metadata": {},
     "source": [
      "Project Euler - Problem 6"
     ]
    },
    {
     "cell_type": "markdown",
     "metadata": {},
     "source": [
      "The sum of the squares of the first ten natural numbers is,\n",
      "\n",
      "$$1^2 + 2^2 + ... + 10^2 = 385$$\n",
      "\n",
      "The square of the sum of the first ten natural numbers is,\n",
      "\n",
      "$$(1 + 2 + ... + 10)^2 = 55^2 = 3025$$\n",
      "\n",
      "Hence the difference between the sum of the squares of the first ten natural numbers and the square of the sum is 3025 \u2212 385 = 2640.\n",
      "\n",
      "Find the difference between the sum of the squares of the first one hundred natural numbers and the square of the sum."
     ]
    },
    {
     "cell_type": "heading",
     "level": 3,
     "metadata": {},
     "source": [
      "Version 1"
     ]
    },
    {
     "cell_type": "code",
     "collapsed": false,
     "input": [
      "sum_sq_diff = lambda n: sum(xrange(1, n+1))**2 - sum(i**2 for i in xrange(1, n+1))"
     ],
     "language": "python",
     "metadata": {},
     "outputs": [],
     "prompt_number": 7
    },
    {
     "cell_type": "code",
     "collapsed": false,
     "input": [
      "sum_sq_diff(10)"
     ],
     "language": "python",
     "metadata": {},
     "outputs": [
      {
       "metadata": {},
       "output_type": "pyout",
       "prompt_number": 8,
       "text": [
        "2640"
       ]
      }
     ],
     "prompt_number": 8
    },
    {
     "cell_type": "code",
     "collapsed": false,
     "input": [
      "sum_sq_diff(100)"
     ],
     "language": "python",
     "metadata": {},
     "outputs": [
      {
       "metadata": {},
       "output_type": "pyout",
       "prompt_number": 9,
       "text": [
        "25164150"
       ]
      }
     ],
     "prompt_number": 9
    },
    {
     "cell_type": "heading",
     "level": 3,
     "metadata": {},
     "source": [
      "Version 2 - Simple Math"
     ]
    },
    {
     "cell_type": "markdown",
     "metadata": {},
     "source": [
      "$$\\sum_{k=1}^{n} k^2 = \\frac{n(n+1)(2n+1)}{6}$$"
     ]
    },
    {
     "cell_type": "markdown",
     "metadata": {},
     "source": [
      "$$\\sum_{k=1}^{n} k = \\frac{n(n+1)}{2}$$"
     ]
    },
    {
     "cell_type": "markdown",
     "metadata": {},
     "source": [
      "$$\\left(\\sum_{k=1}^{n} k\\right)^2 - \\sum_{k=1}^{n} k^2 = \\left(\\frac{n(n+1)}{2}\\right)^2 - \\frac{n(n+1)(2n+1)}{6} = \\frac{n(3n+2)(n-1)(n+1)}{12}$$"
     ]
    },
    {
     "cell_type": "code",
     "collapsed": false,
     "input": [
      "sum_sq_diff = lambda n: n*(3*n+2)*(n-1)*(n+1)/12 "
     ],
     "language": "python",
     "metadata": {},
     "outputs": [],
     "prompt_number": 13
    },
    {
     "cell_type": "code",
     "collapsed": false,
     "input": [
      "sum_sq_diff(100)"
     ],
     "language": "python",
     "metadata": {},
     "outputs": [
      {
       "metadata": {},
       "output_type": "pyout",
       "prompt_number": 15,
       "text": [
        "25164150"
       ]
      }
     ],
     "prompt_number": 15
    },
    {
     "cell_type": "markdown",
     "metadata": {},
     "source": [
      "Doesn't get simpler than this..?"
     ]
    }
   ],
   "metadata": {}
  }
 ]
}